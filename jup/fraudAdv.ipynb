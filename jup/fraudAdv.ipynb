{
 "cells": [
  {
   "cell_type": "code",
   "execution_count": 1,
   "metadata": {
    "_cell_guid": "b1076dfc-b9ad-4769-8c92-a6c4dae69d19",
    "_uuid": "8f2839f25d086af736a60e9eeb907d3b93b6e0e5"
   },
   "outputs": [],
   "source": [
    "import numpy as np # linear algebra\n",
    "import pandas as pd # data processing, CSV file I/O (e.g. pd.read_csv)\n",
    "import lightgbm as lgb\n",
    "from sklearn.model_selection import KFold\n",
    "from sklearn import model_selection, preprocessing, metrics\n",
    "import shap\n",
    "import os\n",
    "from sklearn import preprocessing\n",
    "import xgboost as xgb\n",
    "import gc\n",
    "from tqdm import tqdm\n",
    "import xgboost as xgb\n",
    "from sklearn.metrics import roc_auc_score\n",
    "from sklearn.metrics import confusion_matrix, roc_auc_score, log_loss\n",
    "\n",
    "import matplotlib.pyplot as plt\n",
    "import seaborn as sns\n",
    "import warnings\n",
    "warnings.simplefilter(action='ignore', category=FutureWarning)"
   ]
  },
  {
   "cell_type": "code",
   "execution_count": 2,
   "metadata": {},
   "outputs": [],
   "source": [
    "SEED=4242"
   ]
  },
  {
   "cell_type": "code",
   "execution_count": 3,
   "metadata": {},
   "outputs": [],
   "source": [
    "def get_df(df_path, dtypes_path):\n",
    "    path = '../input/ieee-cis-data/'\n",
    "    df_dtypes = pd.read_csv(path + dtypes_path)\n",
    "    df_dtypes = df_dtypes.rename(columns={'TransactionID': 'col','int32': 'type'})\n",
    "    df_dtypes = df_dtypes.to_dict(orient='records')\n",
    "    new_dtypes = dict()\n",
    "    for rec in df_dtypes:\n",
    "        new_dtypes[rec['col']] = rec['type']\n",
    "    new_dtypes['TransactionID'] = 'int32'\n",
    "\n",
    "    df = pd.read_csv(path+df_path, dtype=new_dtypes)\n",
    "    del df_dtypes, new_dtypes\n",
    "    gc.collect()\n",
    "    return df\n",
    "\n",
    "def get_adverarial_val_set(X_train, X_test):\n",
    "    X_test.drop([\"target\"], 1,inplace=True)\n",
    "\n",
    "    train, val = X_train[X_train.probas < 0.9], X_train[X_train.probas > 0.9]\n",
    "    del X_train\n",
    "    gc.collect()\n",
    "    \n",
    "    train = train.drop([\"probas\"], 1)\n",
    "    val = val.drop([\"probas\"], 1)\n",
    "\n",
    "    X_train, y_train = train.drop(\"target\", 1), train.target\n",
    "    del train\n",
    "    gc.collect()\n",
    "    \n",
    "    X_val, y_val = val.drop(\"target\", 1), val.target\n",
    "    del val\n",
    "    gc.collect()\n",
    "    \n",
    "    print(\"Train shape: {}\\nValidation shape: {}\\nTest shape: {}\".format(X_train.shape, X_val.shape, X_test.shape))\n",
    "    \n",
    "    return X_train, y_train, X_val, y_val, X_test\n",
    "\n",
    "def get_adversarial_train(X_train, Y_train, X_test):\n",
    "    X_train['target'] = Y_train\n",
    "    X_test['target'] = 0\n",
    "    \n",
    "    X_train[\"is_test\"] = 0\n",
    "    X_test[\"is_test\"] = 1\n",
    "    assert(np.all(X_train.columns == X_test.columns))\n",
    "    \n",
    "    total = pd.concat([X_train, X_test])\n",
    "    \n",
    "    del X_train, X_test\n",
    "    gc.collect()\n",
    "    \n",
    "    X_split = total.drop([\"is_test\", \"target\"], axis = 1)\n",
    "    y_split = total.is_test\n",
    "    \n",
    "    X_train, X_valid, y_train, y_valid = model_selection.train_test_split(X_split,y_split, test_size=0.2, random_state=SEED)\n",
    "    del X_split,y_split\n",
    "    gc.collect()\n",
    "    \n",
    "    dtrain = xgb.DMatrix(data=X_train, label=y_train)\n",
    "    del X_train, y_train\n",
    "    gc.collect()\n",
    "    \n",
    "    dval = xgb.DMatrix(data=X_valid, label=y_valid)\n",
    "    del X_valid, y_valid\n",
    "    gc.collect()\n",
    "\n",
    "    params ={\n",
    "        'max_depth':9,\n",
    "        'learning_rate':0.05,\n",
    "        'subsample':0.9,\n",
    "        'colsample_bytree':0.9,\n",
    "        'tree_method': 'gpu_hist',\n",
    "        'objective': 'binary:logistic',\n",
    "        'eval_metric': 'auc',\n",
    "        'seed': 42,\n",
    "    }\n",
    "    \n",
    "    watchlist = [(dtrain, 'train'), (dval, 'val')]\n",
    "    clf = xgb.train(dtrain=dtrain,\n",
    "                                   num_boost_round=300, evals=watchlist,\n",
    "                                   early_stopping_rounds=50,\n",
    "                                   verbose_eval=100, params=params)\n",
    "    del watchlist, dtrain, dval\n",
    "    gc.collect()\n",
    "    \n",
    "    feature_imp = pd.DataFrame(sorted(zip(clf.get_score().keys(), clf.get_score().values())), columns=['Feature','Value'])\n",
    "\n",
    "    plt.figure(figsize=(20, 10))\n",
    "    sns.barplot(x=\"Value\", y=\"Feature\", data=feature_imp.sort_values(by=\"Value\", ascending=False).head(20))\n",
    "    plt.title('LightGBM Features')\n",
    "    plt.tight_layout()\n",
    "    \n",
    "    X_train = total[total.is_test == 0]\n",
    "    X_test = total[total.is_test == 1]\n",
    "    \n",
    "    del total\n",
    "    gc.collect()\n",
    "    \n",
    "    X_train.drop(['is_test'], 1,inplace=True)\n",
    "    X_test.drop(['is_test'], 1,inplace=True)\n",
    "    dval = xgb.DMatrix(data=X_train.drop(['target'],1))\n",
    "    X_train['probas'] = clf.predict(dval)\n",
    "    del dval\n",
    "    gc.collect()\n",
    "    \n",
    "    X_train.sort_values([\"probas\"], ascending = False, inplace=True)\n",
    "    \n",
    "    del clf\n",
    "    gc.collect()\n",
    "    \n",
    "    return X_train, X_test"
   ]
  },
  {
   "cell_type": "code",
   "execution_count": 4,
   "metadata": {
    "_cell_guid": "79c7e3d0-c299-4dcb-8224-4455121ee9b0",
    "_uuid": "d629ff2d2480ee46fbb7e2d37f6b5fab8052498a"
   },
   "outputs": [],
   "source": [
    "train = get_df('train.csv', 'train_dtypes.csv')\n",
    "test = get_df('test.csv', 'test_dtypes.csv')\n",
    "sub = pd.read_csv('../input/ieee-fraud-detection/sample_submission.csv')"
   ]
  },
  {
   "cell_type": "code",
   "execution_count": 5,
   "metadata": {},
   "outputs": [],
   "source": [
    "# one_value_cols = [col for col in train.columns if train[col].nunique() <= 1]\n",
    "# one_value_cols_test = [col for col in test.columns if test[col].nunique() <= 1]\n",
    "# many_null_cols = [col for col in train.columns if train[col].isnull().sum() / train.shape[0] > 0.9]\n",
    "# many_null_cols_test = [col for col in test.columns if test[col].isnull().sum() / test.shape[0] > 0.9]\n",
    "# big_top_value_cols = [col for col in train.columns if train[col].value_counts(dropna=False, normalize=True).values[0] > 0.9]\n",
    "# big_top_value_cols_test = [col for col in test.columns if test[col].value_counts(dropna=False, normalize=True).values[0] > 0.9]\n",
    "# skewed_cols = [col for col in train.columns if train[col].value_counts(normalize=True).values[0] > 0.95]\n",
    "# skewed_cols_test = [col for col in test.columns if test[col].value_counts(normalize=True).values[0] > 0.95]\n",
    "# cols_to_drop = list(set(many_null_cols + many_null_cols_test + big_top_value_cols + skewed_cols + skewed_cols_test+\n",
    "#                         big_top_value_cols_test + one_value_cols+ one_value_cols_test))\n",
    "# cols_to_drop.remove('isFraud')\n",
    "\n",
    "# train = train.drop(cols_to_drop, axis=1)\n",
    "# test = test.drop(cols_to_drop, axis=1)\n",
    "# gc.collect()"
   ]
  },
  {
   "cell_type": "code",
   "execution_count": 6,
   "metadata": {},
   "outputs": [
    {
     "data": {
      "text/plain": [
       "14"
      ]
     },
     "execution_count": 6,
     "metadata": {},
     "output_type": "execute_result"
    }
   ],
   "source": [
    "X = train.sort_values('TransactionDT').drop(['isFraud', 'TransactionDT', 'TransactionID'], axis=1)\n",
    "y_train = train.sort_values('TransactionDT')['isFraud']\n",
    "X_test = test.sort_values('TransactionDT').drop(['TransactionDT', 'TransactionID'], axis=1)\n",
    "del train\n",
    "test = test[[\"TransactionDT\", 'TransactionID']]\n",
    "gc.collect()"
   ]
  },
  {
   "cell_type": "code",
   "execution_count": 7,
   "metadata": {},
   "outputs": [],
   "source": [
    "X = X[X_test.columns]"
   ]
  },
  {
   "cell_type": "code",
   "execution_count": 8,
   "metadata": {},
   "outputs": [],
   "source": [
    "object_columns = list(X.select_dtypes('object').columns)\n",
    "for f in object_columns:\n",
    "    le = preprocessing.LabelEncoder()\n",
    "    le.fit(list(X[f].values)+list(X_test[f].values))\n",
    "    X[f] = le.transform(list(X[f].values))\n",
    "    X_test[f] = le.transform(list(X_test[f].values))"
   ]
  },
  {
   "cell_type": "code",
   "execution_count": 9,
   "metadata": {},
   "outputs": [],
   "source": [
    "to_drop = [\n",
    "    'id_31',\n",
    "#     'D15',\n",
    "#     'D10','card1','C13','D4','card2','D11','addr1','D1','dist1','D2','TransactionAmt', \n",
    "#     'C9', 'C11'\n",
    "\n",
    "    #     'C9','C11','D5','C1','C14','C2','card5','C6','D3','V310','D6','C5','V130','D8','P_emaildomain','D14','id_30','C12',\n",
    "#     'id_20','id_13','D13','id_02'\n",
    "]"
   ]
  },
  {
   "cell_type": "code",
   "execution_count": 10,
   "metadata": {},
   "outputs": [
    {
     "data": {
      "text/plain": [
       "7"
      ]
     },
     "execution_count": 10,
     "metadata": {},
     "output_type": "execute_result"
    }
   ],
   "source": [
    "dataX_tr = X.drop(to_drop, 1)\n",
    "dataX_te = X_test.drop(to_drop, 1)\n",
    "gc.collect()"
   ]
  },
  {
   "cell_type": "code",
   "execution_count": 11,
   "metadata": {},
   "outputs": [
    {
     "name": "stdout",
     "output_type": "stream",
     "text": [
      "Concat\n",
      "Split\n",
      "Train\n",
      "[0]\ttrain-auc:0.851904\tval-auc:0.852939\n",
      "Multiple eval metrics have been passed: 'val-auc' will be used for early stopping.\n",
      "\n",
      "Will train until val-auc hasn't improved in 50 rounds.\n",
      "[100]\ttrain-auc:0.888475\tval-auc:0.887757\n",
      "[200]\ttrain-auc:0.908496\tval-auc:0.905371\n",
      "[299]\ttrain-auc:0.920997\tval-auc:0.916002\n",
      "Extract\n"
     ]
    },
    {
     "data": {
      "image/png": "[encoded data removed]",
      "text/plain": [
       "<Figure size 1440x720 with 1 Axes>"
      ]
     },
     "metadata": {
      "needs_background": "light"
     },
     "output_type": "display_data"
    }
   ],
   "source": [
    "dataX_train, dataX_test = get_adversarial_train(dataX_tr, y_train, dataX_te)"
   ]
  },
  {
   "cell_type": "code",
   "execution_count": 12,
   "metadata": {},
   "outputs": [
    {
     "name": "stdout",
     "output_type": "stream",
     "text": [
      "Train shape: (589082, 430)\n",
      "Validation shape: (1458, 430)\n",
      "Test shape: (506691, 430)\n"
     ]
    }
   ],
   "source": [
    "X_train, y_train, X_valid, y_valid, X_test = get_adverarial_val_set(dataX_train, dataX_test)"
   ]
  },
  {
   "cell_type": "code",
   "execution_count": 13,
   "metadata": {},
   "outputs": [
    {
     "name": "stdout",
     "output_type": "stream",
     "text": [
      "[0]\ttrain-auc:0.846255\tval-auc:0.836843\n",
      "Multiple eval metrics have been passed: 'val-auc' will be used for early stopping.\n",
      "\n",
      "Will train until val-auc hasn't improved in 300 rounds.\n",
      "[100]\ttrain-auc:0.945204\tval-auc:0.919385\n",
      "[200]\ttrain-auc:0.969553\tval-auc:0.931114\n",
      "[300]\ttrain-auc:0.977815\tval-auc:0.931951\n",
      "[400]\ttrain-auc:0.983473\tval-auc:0.930706\n",
      "[500]\ttrain-auc:0.987513\tval-auc:0.931522\n",
      "Stopping. Best iteration:\n",
      "[222]\ttrain-auc:0.97172\tval-auc:0.933659\n",
      "\n"
     ]
    }
   ],
   "source": [
    "dtrain = xgb.DMatrix(data=X_train, label=y_train)\n",
    "del X_train, y_train\n",
    "gc.collect()\n",
    "\n",
    "dval = xgb.DMatrix(data=X_valid, label=y_valid)\n",
    "del X_valid, y_valid\n",
    "gc.collect()\n",
    "\n",
    "params ={\n",
    "    'max_depth':9,\n",
    "    'learning_rate':0.05,\n",
    "    'subsample':0.9,\n",
    "    'colsample_bytree':0.9,\n",
    "    'tree_method': 'gpu_hist',\n",
    "    'objective': 'binary:logistic',\n",
    "    'eval_metric': 'auc',\n",
    "    'seed': 42,\n",
    "}\n",
    "\n",
    "watchlist = [(dtrain, 'train'), (dval, 'val')]\n",
    "clf = xgb.train(dtrain=dtrain,\n",
    "                               num_boost_round=3000, evals=watchlist,\n",
    "                               early_stopping_rounds=300,\n",
    "                               verbose_eval=100, params=params)"
   ]
  },
  {
   "cell_type": "code",
   "execution_count": 14,
   "metadata": {},
   "outputs": [
    {
     "data": {
      "image/png": "[encoded data removed]",
      "text/plain": [
       "<Figure size 1440x720 with 1 Axes>"
      ]
     },
     "metadata": {
      "needs_background": "light"
     },
     "output_type": "display_data"
    }
   ],
   "source": [
    "feature_imp = pd.DataFrame(sorted(zip(clf.get_score().keys(), clf.get_score().values())), columns=['Feature','Value'])\n",
    "\n",
    "plt.figure(figsize=(20, 10))\n",
    "sns.barplot(x=\"Value\", y=\"Feature\", data=feature_imp.sort_values(by=\"Value\", ascending=False).head(20))\n",
    "plt.title('LightGBM Features')\n",
    "plt.tight_layout()\n"
   ]
  },
  {
   "cell_type": "code",
   "execution_count": 15,
   "metadata": {},
   "outputs": [],
   "source": [
    "dtest = xgb.DMatrix(data=X_test)\n",
    "test = test.sort_values('TransactionDT')\n",
    "test['prediction'] = clf.predict(dtest)\n",
    "sub['isFraud'] = pd.merge(sub, test, on='TransactionID')['prediction']\n",
    "sub.to_csv('adv.csv', index=False)"
   ]
  },
  {
   "cell_type": "code",
   "execution_count": 16,
   "metadata": {},
   "outputs": [
    {
     "data": {
      "text/html": [
       "<div>\n",
       "<style scoped>\n",
       "    .dataframe tbody tr th:only-of-type {\n",
       "        vertical-align: middle;\n",
       "    }\n",
       "\n",
       "    .dataframe tbody tr th {\n",
       "        vertical-align: top;\n",
       "    }\n",
       "\n",
       "    .dataframe thead th {\n",
       "        text-align: right;\n",
       "    }\n",
       "</style>\n",
       "<table border=\"1\" class=\"dataframe\">\n",
       "  <thead>\n",
       "    <tr style=\"text-align: right;\">\n",
       "      <th></th>\n",
       "      <th>TransactionID</th>\n",
       "      <th>isFraud</th>\n",
       "    </tr>\n",
       "  </thead>\n",
       "  <tbody>\n",
       "    <tr>\n",
       "      <th>506686</th>\n",
       "      <td>4170235</td>\n",
       "      <td>0.015175</td>\n",
       "    </tr>\n",
       "    <tr>\n",
       "      <th>506687</th>\n",
       "      <td>4170236</td>\n",
       "      <td>0.004786</td>\n",
       "    </tr>\n",
       "    <tr>\n",
       "      <th>506688</th>\n",
       "      <td>4170237</td>\n",
       "      <td>0.006766</td>\n",
       "    </tr>\n",
       "    <tr>\n",
       "      <th>506689</th>\n",
       "      <td>4170238</td>\n",
       "      <td>0.012632</td>\n",
       "    </tr>\n",
       "    <tr>\n",
       "      <th>506690</th>\n",
       "      <td>4170239</td>\n",
       "      <td>0.009307</td>\n",
       "    </tr>\n",
       "  </tbody>\n",
       "</table>\n",
       "</div>"
      ],
      "text/plain": [
       "        TransactionID   isFraud\n",
       "506686        4170235  0.015175\n",
       "506687        4170236  0.004786\n",
       "506688        4170237  0.006766\n",
       "506689        4170238  0.012632\n",
       "506690        4170239  0.009307"
      ]
     },
     "execution_count": 16,
     "metadata": {},
     "output_type": "execute_result"
    }
   ],
   "source": [
    "sub.tail()"
   ]
  },
  {
   "cell_type": "code",
   "execution_count": null,
   "metadata": {},
   "outputs": [],
   "source": []
  }
 ],
 "metadata": {
  "kernelspec": {
   "display_name": "Python 3",
   "language": "python",
   "name": "python3"
  },
  "language_info": {
   "codemirror_mode": {
    "name": "ipython",
    "version": 3
   },
   "file_extension": ".py",
   "mimetype": "text/x-python",
   "name": "python",
   "nbconvert_exporter": "python",
   "pygments_lexer": "ipython3",
   "version": "3.6.2"
  }
 },
 "nbformat": 4,
 "nbformat_minor": 1
}
