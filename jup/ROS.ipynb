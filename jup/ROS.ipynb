{
 "cells": [
  {
   "cell_type": "code",
   "execution_count": 1,
   "metadata": {
    "_cell_guid": "b1076dfc-b9ad-4769-8c92-a6c4dae69d19",
    "_uuid": "8f2839f25d086af736a60e9eeb907d3b93b6e0e5"
   },
   "outputs": [],
   "source": [
    "import numpy as np\n",
    "import pandas as pd\n",
    "\n",
    "import matplotlib.pyplot as plt\n",
    "from sklearn.metrics import roc_auc_score, accuracy_score, confusion_matrix\n",
    "pd.options.display.precision = 15\n",
    "\n",
    "import lightgbm as lgb\n",
    "import xgboost as xgb\n",
    "import time\n",
    "import datetime\n",
    "from sklearn.preprocessing import LabelEncoder\n",
    "from sklearn.metrics import f1_score, roc_auc_score, precision_score, recall_score, confusion_matrix, roc_curve,precision_recall_curve\n",
    "from sklearn.base import clone\n",
    "import gc\n",
    "import seaborn as sns\n",
    "import warnings\n",
    "warnings.filterwarnings(\"ignore\")\n",
    "from sklearn.base import BaseEstimator\n",
    "import catboost as cat\n",
    "from tqdm import tqdm\n",
    "from sklearn import model_selection\n",
    "import itertools"
   ]
  },
  {
   "cell_type": "code",
   "execution_count": 2,
   "metadata": {
    "_cell_guid": "79c7e3d0-c299-4dcb-8224-4455121ee9b0",
    "_uuid": "d629ff2d2480ee46fbb7e2d37f6b5fab8052498a"
   },
   "outputs": [],
   "source": [
    "def plot_confusion_matrix(cm, classes,\n",
    "                          normalize = False,\n",
    "                          title = 'Confusion matrix\"',\n",
    "                          cmap = plt.cm.Blues) :\n",
    "    plt.imshow(cm, interpolation = 'nearest', cmap = cmap)\n",
    "    plt.title(title)\n",
    "    plt.colorbar()\n",
    "    tick_marks = np.arange(len(classes))\n",
    "    plt.xticks(tick_marks, classes, rotation = 0)\n",
    "    plt.yticks(tick_marks, classes)\n",
    "\n",
    "    thresh = cm.max() / 2.\n",
    "    for i, j in itertools.product(range(cm.shape[0]), range(cm.shape[1])) :\n",
    "        plt.text(j, i, cm[i, j],\n",
    "                 horizontalalignment = 'center',\n",
    "                 color = 'white' if cm[i, j] > thresh else 'black')\n",
    " \n",
    "    plt.tight_layout()\n",
    "    plt.ylabel('True label')\n",
    "    plt.xlabel('Predicted label')\n",
    "    \n",
    "def get_hue_oof(params, X, y, X_test,\n",
    "                cv_scheme='kf', n_splits=5, shuffle=False, seed=42,\n",
    "                metrics=None,n_estimators=5000,\n",
    "                verbose=500,early_stopping_rounds=100):\n",
    "    if metrics is None:\n",
    "        metrics = [('f1', f1_score)]\n",
    "    if cv_scheme is 'kf':\n",
    "        cv_split = model_selection.KFold(n_splits=n_splits, shuffle=shuffle, random_state=seed)\n",
    "    elif cv_scheme is 'skf':\n",
    "        cv_split = model_selection.StratifiedKFold(n_splits=n_splits, shuffle=shuffle, random_state=seed)\n",
    "    else:\n",
    "        cv_split = model_selection.TimeSeriesSplit(n_splits=n_splits)\n",
    "\n",
    "    S_train = np.zeros((X.shape[0],))\n",
    "    S_test = np.zeros((X_test.shape[0],))\n",
    "    \n",
    "    cms=[]\n",
    "    scores = pd.DataFrame()\n",
    "    feature_importance = pd.DataFrame()\n",
    "    for metric_name, metric in metrics:\n",
    "        scores[metric_name] = np.ndarray((n_splits,))\n",
    "    columns = X.columns\n",
    "    for fold_n, (tr_idx, val_idx) in enumerate(cv_split.split(X,y)):\n",
    "        if type(X) is np.ndarray:\n",
    "            X_tr, X_val = X[columns][tr_idx], X[columns][val_idx]\n",
    "            y_tr, y_val = y[tr_idx], y[val_idx]\n",
    "        else:\n",
    "            X_tr, X_val = X[columns].iloc[tr_idx], X[columns].iloc[val_idx]\n",
    "            y_tr, y_val = y[tr_idx], y[val_idx]\n",
    "            \n",
    "            model = lgb.LGBMClassifier(**params, \n",
    "                                       n_estimators=n_estimators, \n",
    "                                       n_jobs = -1)\n",
    "            model.fit(X_tr, y_tr, \n",
    "                    eval_set=[(X_tr, y_tr), (X_val, y_val)], \n",
    "                    eval_metric=eval_auc,\n",
    "                    verbose=verbose, \n",
    "                    early_stopping_rounds=early_stopping_rounds)\n",
    "            \n",
    "            oof_pred = model.predict_proba(X_val)[:, 1]\n",
    "            test_pred = model.predict_proba(X_test, \n",
    "                                         num_iteration=model.best_iteration_)[:, 1]\n",
    "\n",
    "        for_metrics = model.predict(X_val)\n",
    "        for (metric_name, metric) in metrics:\n",
    "            scores.loc[fold_n, metric_name] = metric(y_val, for_metrics)\n",
    "\n",
    "        S_train[val_idx] = oof_pred.ravel()\n",
    "        S_test += test_pred\n",
    "        \n",
    "        cms.append(confusion_matrix(y_val, for_metrics))\n",
    "        \n",
    "        fold_importance = pd.DataFrame()\n",
    "        fold_importance[\"feature\"] = columns\n",
    "        fold_importance[\"importance\"] = model.feature_importances_\n",
    "        fold_importance[\"fold\"] = fold_n + 1\n",
    "        feature_importance = pd.concat([feature_importance, fold_importance], axis=0)\n",
    "        \n",
    "    S_test /= n_splits\n",
    "    \n",
    "    feature_importance[\"importance\"] /= n_splits\n",
    "    cols = feature_importance[[\"feature\", \"importance\"]].groupby(\"feature\").mean().sort_values(\n",
    "        by=\"importance\", ascending=False)[:50].index\n",
    "    best_features = feature_importance.loc[feature_importance.feature.isin(cols)]\n",
    "    plt.figure(figsize=(16, 12));\n",
    "    sns.barplot(x=\"importance\", \n",
    "                y=\"feature\", \n",
    "                data=best_features.sort_values(by=\"importance\", ascending=False));\n",
    "    plt.title('LGB Features (avg over folds)');\n",
    "    \n",
    "    cm = np.average(cms, axis=0)\n",
    "    plt.figure()\n",
    "    plot_confusion_matrix(cm, \n",
    "                      classes=[0,1], \n",
    "                      title= 'LGB Confusion matrix [averaged/folds]')\n",
    "    \n",
    "    print('=' * 60)\n",
    "    for metric in scores.columns:\n",
    "        print(f'[{metric}]\\t', 'CV mean:', np.mean(scores[metric]), ', std:', np.std(scores[metric]))\n",
    "    return S_train.reshape(-1, 1), S_test.reshape(-1, 1)\n",
    "\n",
    "def reduce_memory_usage(df):\n",
    "    numerics = ['int16', 'int32', 'int64', 'float16', 'float32', 'float64']\n",
    "    start_mem = df.memory_usage().sum() / 1024 ** 2\n",
    "    for col in tqdm(df.columns):\n",
    "        col_type = df[col].dtypes\n",
    "        if col_type in numerics:\n",
    "            c_min = df[col].min()\n",
    "            c_max = df[col].max()\n",
    "            if str(col_type)[:3] == 'int':\n",
    "                if c_min > np.iinfo(np.int8).min and c_max < np.iinfo(np.int8).max:\n",
    "                    df[col] = df[col].astype(np.int8)\n",
    "                elif c_min > np.iinfo(np.int16).min and c_max < np.iinfo(np.int16).max:\n",
    "                    df[col] = df[col].astype(np.int16)\n",
    "                elif c_min > np.iinfo(np.int32).min and c_max < np.iinfo(np.int32).max:\n",
    "                    df[col] = df[col].astype(np.int32)\n",
    "                elif c_min > np.iinfo(np.int64).min and c_max < np.iinfo(np.int64).max:\n",
    "                    df[col] = df[col].astype(np.int64)\n",
    "            else:\n",
    "                if c_min > np.finfo(np.float16).min and c_max < np.finfo(np.float16).max:\n",
    "                    df[col] = df[col].astype(np.float16)\n",
    "                elif c_min > np.finfo(np.float32).min and c_max < np.finfo(np.float32).max:\n",
    "                    df[col] = df[col].astype(np.float32)\n",
    "                else:\n",
    "                    df[col] = df[col].astype(np.float64)\n",
    "    end_mem = df.memory_usage().sum() / 1024 ** 2\n",
    "    print('Mem. usage decreased to {:5.2f} Mb ({:.1f}% reduction)'.format(end_mem, 100 * (\n",
    "            start_mem - end_mem) / start_mem))\n",
    "    \n",
    "def fast_auc(y_true, y_prob):\n",
    "    y_true = np.asarray(y_true)\n",
    "    y_true = y_true[np.argsort(y_prob)]\n",
    "    nfalse = 0\n",
    "    auc = 0\n",
    "    n = len(y_true)\n",
    "    for i in range(n):\n",
    "        y_i = y_true[i]\n",
    "        nfalse += (1 - y_i)\n",
    "        auc += y_i * nfalse\n",
    "    auc /= (nfalse * (n - nfalse))\n",
    "    return auc\n",
    "\n",
    "\n",
    "def eval_auc(y_true, y_pred):\n",
    "    return 'auc', fast_auc(y_true, y_pred), True\n",
    "\n",
    "def get_df(df_path, dtypes_path):\n",
    "    path = '../input/ieee-cis-data/'\n",
    "    df_dtypes = pd.read_csv(path + dtypes_path)\n",
    "    df_dtypes = df_dtypes.rename(columns={'TransactionID': 'col','int32': 'type'})\n",
    "    df_dtypes = df_dtypes.to_dict(orient='records')\n",
    "    new_dtypes = dict()\n",
    "    for rec in df_dtypes:\n",
    "        new_dtypes[rec['col']] = rec['type']\n",
    "    new_dtypes['TransactionID'] = 'int32'\n",
    "\n",
    "    df = pd.read_csv(path+df_path, dtype=new_dtypes)\n",
    "    del df_dtypes, new_dtypes\n",
    "    gc.collect()\n",
    "    return df\n",
    "\n",
    "class TargetSmoothedEncoder:\n",
    "    def __init__(self, cols=None, alpha=5):\n",
    "        if isinstance(cols, str):\n",
    "            self.cols = [cols]\n",
    "        else:\n",
    "            self.cols = cols\n",
    "        self.alpha = alpha\n",
    "\n",
    "    def fit(self, X, y):\n",
    "        if self.cols is None:\n",
    "            self.cols = [col for col in X if str(X[col].dtype) == 'object']\n",
    "\n",
    "        for col in self.cols:\n",
    "            if col not in X:\n",
    "                raise ValueError('Column', col, ' not in X')\n",
    "\n",
    "        self.maps = dict()\n",
    "        for col in self.cols:\n",
    "            global_mean = y.mean()\n",
    "            tmap = dict()\n",
    "            uniques = X[col].unique()\n",
    "            for unique in uniques:\n",
    "                nrows = y[X[col] == unique].count()\n",
    "                mean = y[X[col] == unique].mean()\n",
    "                tmap[unique] = (mean * nrows + global_mean * self.alpha) / (nrows + self.alpha)\n",
    "            self.maps[col] = tmap\n",
    "\n",
    "        return self\n",
    "\n",
    "    def transform(self, X):\n",
    "        res = X[self.cols].copy()\n",
    "        for col, tmap in self.maps.items():\n",
    "            vals = np.full(X.shape[0], np.nan)\n",
    "            for val, mean_target in tmap.items():\n",
    "                vals[X[col] == val] = mean_target\n",
    "            res[col] = vals\n",
    "        return res\n",
    "\n",
    "    def fit_transform(self, X, y=None):\n",
    "        return self.fit(X, y).transform(X)\n",
    "\n",
    "\n",
    "class TargetEncoderCV:\n",
    "    def __init__(self, cols=None, n_splits=3, shuffle=True, seed=0):\n",
    "        self.n_splits = n_splits\n",
    "        self.shuffle = shuffle\n",
    "        self.seed = seed\n",
    "        self.cols = cols\n",
    "\n",
    "    def fit(self, X, y):\n",
    "        self.target_encoder = TargetSmoothedEncoder(cols=self.cols).fit(X, y)\n",
    "        return self\n",
    "\n",
    "    def transform(self, X, y=None):\n",
    "        # Use target encoding from fit() if this is test data\n",
    "        if y is None:\n",
    "            return self.target_encoder.transform(X)\n",
    "\n",
    "        kf = model_selection.KFold(n_splits=self.n_splits, shuffle=self.shuffle, random_state=self.seed)\n",
    "        res = X[self.cols].copy()\n",
    "        for tr_idx, val_idx in kf.split(X):\n",
    "            te = TargetSmoothedEncoder(cols=self.cols).fit(X.iloc[tr_idx, :], y.iloc[tr_idx])\n",
    "            res.iloc[val_idx, :] = te.transform(X.iloc[val_idx, :])\n",
    "        return res\n",
    "\n",
    "    def fit_transform(self, X, y=None):\n",
    "        return self.fit(X, y).transform(X, y)\n",
    "    \n",
    "def do_groupby(feat, by,trans=['mean','std']):\n",
    "    for trans_ in trans:\n",
    "        train[feat+'_to_'+trans_+'_'+by] = train[feat] / train.groupby([by])[feat].transform(trans_)\n",
    "        test[feat+'_to_'+trans_+'_'+by] = test[feat] / test.groupby([by])[feat].transform(trans_)"
   ]
  },
  {
   "cell_type": "code",
   "execution_count": 3,
   "metadata": {},
   "outputs": [],
   "source": [
    "train = get_df('train.csv', 'train_dtypes.csv')\n",
    "test = get_df('test.csv', 'test_dtypes.csv')\n",
    "sub = pd.read_csv('../input/ieee-fraud-detection/sample_submission.csv')"
   ]
  },
  {
   "cell_type": "code",
   "execution_count": 4,
   "metadata": {},
   "outputs": [],
   "source": [
    "one_value_cols = [col for col in train.columns if train[col].nunique() <= 1]\n",
    "one_value_cols_test = [col for col in test.columns if test[col].nunique() <= 1]\n",
    "many_null_cols = [col for col in train.columns if train[col].isnull().sum() / train.shape[0] > 0.9]\n",
    "many_null_cols_test = [col for col in test.columns if test[col].isnull().sum() / test.shape[0] > 0.9]\n",
    "big_top_value_cols = [col for col in train.columns if train[col].value_counts(dropna=False, normalize=True).values[0] > 0.9]\n",
    "big_top_value_cols_test = [col for col in test.columns if test[col].value_counts(dropna=False, normalize=True).values[0] > 0.9]\n",
    "skewed_cols = [col for col in train.columns if train[col].value_counts(normalize=True).values[0] > 0.95]\n",
    "skewed_cols_test = [col for col in test.columns if test[col].value_counts(normalize=True).values[0] > 0.95]\n",
    "cols_to_drop = list(set(many_null_cols + many_null_cols_test + big_top_value_cols + skewed_cols + skewed_cols_test+\n",
    "                        big_top_value_cols_test + one_value_cols+ one_value_cols_test))\n",
    "cols_to_drop.remove('isFraud')\n",
    "\n",
    "train = train.drop(cols_to_drop, axis=1)\n",
    "test = test.drop(cols_to_drop, axis=1)"
   ]
  },
  {
   "cell_type": "code",
   "execution_count": 5,
   "metadata": {},
   "outputs": [
    {
     "data": {
      "text/plain": [
       "27"
      ]
     },
     "execution_count": 5,
     "metadata": {},
     "output_type": "execute_result"
    }
   ],
   "source": [
    "gc.collect()"
   ]
  },
  {
   "cell_type": "code",
   "execution_count": 7,
   "metadata": {},
   "outputs": [],
   "source": [
    "train[['P_emaildomain_1', 'P_emaildomain_2', 'P_emaildomain_3']] = train['P_emaildomain'].str.split('.', expand=True)\n",
    "train[['R_emaildomain_1', 'R_emaildomain_2', 'R_emaildomain_3']] = train['R_emaildomain'].str.split('.', expand=True)\n",
    "\n",
    "test[['P_emaildomain_1', 'P_emaildomain_2', 'P_emaildomain_3']] = test['P_emaildomain'].str.split('.', expand=True)\n",
    "test[['R_emaildomain_1', 'R_emaildomain_2', 'R_emaildomain_3']] = test['R_emaildomain'].str.split('.', expand=True)"
   ]
  },
  {
   "cell_type": "code",
   "execution_count": 8,
   "metadata": {},
   "outputs": [
    {
     "data": {
      "text/plain": [
       "40"
      ]
     },
     "execution_count": 8,
     "metadata": {},
     "output_type": "execute_result"
    }
   ],
   "source": [
    "gc.collect()"
   ]
  },
  {
   "cell_type": "code",
   "execution_count": 9,
   "metadata": {},
   "outputs": [],
   "source": [
    "train.loc[\n",
    "    train.DeviceInfo.isin(\n",
    "        train.DeviceInfo.value_counts()[train.DeviceInfo.value_counts() < 50].index), \n",
    "    'DeviceInfo'] = \"Others\""
   ]
  },
  {
   "cell_type": "code",
   "execution_count": 11,
   "metadata": {},
   "outputs": [],
   "source": [
    "train = train.drop(['P_emaildomain_3', 'R_emaildomain_3','P_emaildomain','R_emaildomain'], axis=1)\n",
    "test = test.drop(['P_emaildomain_3', 'R_emaildomain_3','P_emaildomain','R_emaildomain'], axis=1)"
   ]
  },
  {
   "cell_type": "code",
   "execution_count": 12,
   "metadata": {},
   "outputs": [
    {
     "data": {
      "text/plain": [
       "28"
      ]
     },
     "execution_count": 12,
     "metadata": {},
     "output_type": "execute_result"
    }
   ],
   "source": [
    "gc.collect()"
   ]
  },
  {
   "cell_type": "code",
   "execution_count": 14,
   "metadata": {},
   "outputs": [],
   "source": [
    "do_groupby('TransactionAmt','card1',['mean'])\n",
    "do_groupby('TransactionAmt','card3',['mean'])\n",
    "do_groupby('TransactionAmt','card5',['mean'])\n",
    "do_groupby('TransactionAmt','card2',['mean','std'])\n",
    "do_groupby('TransactionAmt','card4',['mean','std'])\n",
    "# do_groupby('TransactionAmt','dist1',['mean'])\n",
    "do_groupby('TransactionAmt','ProductCD',['mean','std'])\n",
    "do_groupby('TransactionAmt','addr1',['mean'])\n",
    "# do_groupby('TransactionAmt','DeviceInfo',['mean','std'])\n",
    "do_groupby('TransactionAmt','P_emaildomain_1',['mean','std'])\n",
    "do_groupby('TransactionAmt','R_emaildomain_1',['mean','std'])\n",
    "\n",
    "do_groupby('D15','card1',['mean'])\n",
    "do_groupby('D15','card3',['mean'])\n",
    "do_groupby('D15','card5',['mean'])\n",
    "do_groupby('D15','card2',['mean','std'])\n",
    "do_groupby('D15','card4',['mean','std'])\n",
    "# do_groupby('D15','dist1',['mean'])\n",
    "# do_groupby('D15','ProductCD',['mean','std'])\n",
    "# do_groupby('D15','addr1',['mean'])\n",
    "\n",
    "# do_groupby('Weekday','TransactionAmt',['mean','std'])\n",
    "# do_groupby('Hour','TransactionAmt',['mean','std'])\n",
    "# do_groupby('Day','TransactionAmt',['mean','std'])"
   ]
  },
  {
   "cell_type": "code",
   "execution_count": 15,
   "metadata": {},
   "outputs": [],
   "source": [
    "# train = train[chosen_cols]\n",
    "# chosen_cols.remove('isFraud')\n",
    "# test = test[chosen_cols]"
   ]
  },
  {
   "cell_type": "code",
   "execution_count": 16,
   "metadata": {},
   "outputs": [
    {
     "data": {
      "text/plain": [
       "78"
      ]
     },
     "execution_count": 16,
     "metadata": {},
     "output_type": "execute_result"
    }
   ],
   "source": [
    "X = train.sort_values('TransactionDT').drop(['isFraud', 'TransactionDT', 'TransactionID'], axis=1)\n",
    "y = train.sort_values('TransactionDT')['isFraud']\n",
    "X_test = test.sort_values('TransactionDT').drop(['TransactionDT', 'TransactionID'], axis=1)\n",
    "del train\n",
    "test = test[[\"TransactionDT\", 'TransactionID']]\n",
    "gc.collect()"
   ]
  },
  {
   "cell_type": "code",
   "execution_count": 17,
   "metadata": {},
   "outputs": [
    {
     "data": {
      "text/plain": [
       "True"
      ]
     },
     "execution_count": 17,
     "metadata": {},
     "output_type": "execute_result"
    }
   ],
   "source": [
    "obj_cols_X = list(X.select_dtypes(include=['object']).columns)\n",
    "obj_cols_X_test = list(X_test.select_dtypes(include=['object']).columns)\n",
    "obj_cols_X == obj_cols_X_test"
   ]
  },
  {
   "cell_type": "code",
   "execution_count": 18,
   "metadata": {},
   "outputs": [],
   "source": [
    "for col in obj_cols_X:\n",
    "    le = LabelEncoder()\n",
    "    le.fit(list(X[col].astype(str).values) + list(X_test[col].astype(str).values))\n",
    "    X[col] = le.transform(list(X[col].astype(str).values))\n",
    "    X_test[col] = le.transform(list(X_test[col].astype(str).values))  \n",
    "X_test = X_test.fillna(-999)\n",
    "X = X.fillna(-999)"
   ]
  },
  {
   "cell_type": "code",
   "execution_count": 19,
   "metadata": {},
   "outputs": [],
   "source": [
    "lgb_params = {\n",
    "    \"boosting_type\": \"gbdt\",\n",
    "    'objective': 'binary',\n",
    "    \"metric\": 'auc',\n",
    "    'max_depth': 7,\n",
    "    'num_leaves': 50,\n",
    "    'learning_rate': 0.03,\n",
    "    'min_child_samples': 70,\n",
    "    \n",
    "    \"subsample_freq\": 3,\n",
    "    \"subsample\": 0.9,\n",
    "    \"bagging_seed\": 24,\n",
    "    \"verbosity\": -1,\n",
    "    'reg_alpha': 0.3,\n",
    "    'reg_lambda': 0.3,\n",
    "    'colsample_bytree': 0.9,\n",
    "}\n",
    "model = lgb.LGBMClassifier(**lgb_params, \n",
    "                                       n_estimators=1000, \n",
    "                                       n_jobs = -1)"
   ]
  },
  {
   "cell_type": "code",
   "execution_count": 20,
   "metadata": {},
   "outputs": [
    {
     "data": {
      "text/plain": [
       "SelectFromModel(estimator=LGBMClassifier(bagging_seed=24, boosting_type='gbdt',\n",
       "                                         class_weight=None,\n",
       "                                         colsample_bytree=0.9,\n",
       "                                         importance_type='split',\n",
       "                                         learning_rate=0.03, max_depth=7,\n",
       "                                         metric='auc', min_child_samples=70,\n",
       "                                         min_child_weight=0.001,\n",
       "                                         min_split_gain=0.0, n_estimators=1000,\n",
       "                                         n_jobs=-1, num_leaves=50,\n",
       "                                         objective='binary', random_state=None,\n",
       "                                         reg_alpha=0.3, reg_lambda=0.3,\n",
       "                                         silent=True, subsample=0.9,\n",
       "                                         subsample_for_bin=200000,\n",
       "                                         subsample_freq=3, verbosity=-1),\n",
       "                max_features=None, norm_order=1, prefit=False,\n",
       "                threshold='1.25*median')"
      ]
     },
     "execution_count": 20,
     "metadata": {},
     "output_type": "execute_result"
    }
   ],
   "source": [
    "from sklearn.feature_selection import SelectFromModel\n",
    "embeded_lgb_selector = SelectFromModel(model, threshold='1.25*median')\n",
    "embeded_lgb_selector.fit(X, y)"
   ]
  },
  {
   "cell_type": "code",
   "execution_count": 21,
   "metadata": {},
   "outputs": [
    {
     "name": "stdout",
     "output_type": "stream",
     "text": [
      "146 selected features\n"
     ]
    }
   ],
   "source": [
    "embeded_lgb_support = embeded_lgb_selector.get_support()\n",
    "embeded_lgb_feature = X.loc[:,embeded_lgb_support].columns.tolist()\n",
    "print(str(len(embeded_lgb_feature)), 'selected features')"
   ]
  },
  {
   "cell_type": "code",
   "execution_count": 22,
   "metadata": {},
   "outputs": [
    {
     "data": {
      "text/plain": [
       "['TransactionAmt',\n",
       " 'ProductCD',\n",
       " 'card1',\n",
       " 'card2',\n",
       " 'card3',\n",
       " 'card4',\n",
       " 'card5',\n",
       " 'card6',\n",
       " 'addr1',\n",
       " 'dist1',\n",
       " 'C1',\n",
       " 'C2',\n",
       " 'C4',\n",
       " 'C5',\n",
       " 'C6',\n",
       " 'C8',\n",
       " 'C9',\n",
       " 'C10',\n",
       " 'C11',\n",
       " 'C12',\n",
       " 'C13',\n",
       " 'C14',\n",
       " 'D1',\n",
       " 'D2',\n",
       " 'D3',\n",
       " 'D4',\n",
       " 'D5',\n",
       " 'D6',\n",
       " 'D8',\n",
       " 'D9',\n",
       " 'D10',\n",
       " 'D11',\n",
       " 'D12',\n",
       " 'D13',\n",
       " 'D14',\n",
       " 'D15',\n",
       " 'M3',\n",
       " 'M4',\n",
       " 'M5',\n",
       " 'M6',\n",
       " 'M7',\n",
       " 'M9',\n",
       " 'V12',\n",
       " 'V13',\n",
       " 'V19',\n",
       " 'V20',\n",
       " 'V29',\n",
       " 'V35',\n",
       " 'V36',\n",
       " 'V37',\n",
       " 'V38',\n",
       " 'V44',\n",
       " 'V45',\n",
       " 'V53',\n",
       " 'V54',\n",
       " 'V56',\n",
       " 'V61',\n",
       " 'V62',\n",
       " 'V75',\n",
       " 'V76',\n",
       " 'V78',\n",
       " 'V81',\n",
       " 'V82',\n",
       " 'V83',\n",
       " 'V87',\n",
       " 'V91',\n",
       " 'V96',\n",
       " 'V99',\n",
       " 'V126',\n",
       " 'V127',\n",
       " 'V130',\n",
       " 'V131',\n",
       " 'V139',\n",
       " 'V152',\n",
       " 'V160',\n",
       " 'V164',\n",
       " 'V165',\n",
       " 'V187',\n",
       " 'V207',\n",
       " 'V208',\n",
       " 'V210',\n",
       " 'V220',\n",
       " 'V258',\n",
       " 'V261',\n",
       " 'V264',\n",
       " 'V266',\n",
       " 'V267',\n",
       " 'V268',\n",
       " 'V271',\n",
       " 'V277',\n",
       " 'V278',\n",
       " 'V282',\n",
       " 'V283',\n",
       " 'V285',\n",
       " 'V288',\n",
       " 'V291',\n",
       " 'V294',\n",
       " 'V306',\n",
       " 'V307',\n",
       " 'V308',\n",
       " 'V310',\n",
       " 'V312',\n",
       " 'V313',\n",
       " 'V314',\n",
       " 'V315',\n",
       " 'V317',\n",
       " 'id_01',\n",
       " 'id_02',\n",
       " 'id_05',\n",
       " 'id_06',\n",
       " 'id_09',\n",
       " 'id_13',\n",
       " 'id_14',\n",
       " 'id_17',\n",
       " 'id_19',\n",
       " 'id_20',\n",
       " 'id_30',\n",
       " 'id_31',\n",
       " 'id_33',\n",
       " 'id_38',\n",
       " 'DeviceType',\n",
       " 'DeviceInfo',\n",
       " 'P_emaildomain_1',\n",
       " 'P_emaildomain_2',\n",
       " 'R_emaildomain_1',\n",
       " 'TransactionAmt_to_mean_card1',\n",
       " 'TransactionAmt_to_mean_card3',\n",
       " 'TransactionAmt_to_mean_card5',\n",
       " 'TransactionAmt_to_mean_card2',\n",
       " 'TransactionAmt_to_std_card2',\n",
       " 'TransactionAmt_to_mean_card4',\n",
       " 'TransactionAmt_to_std_card4',\n",
       " 'TransactionAmt_to_mean_ProductCD',\n",
       " 'TransactionAmt_to_std_ProductCD',\n",
       " 'TransactionAmt_to_mean_addr1',\n",
       " 'TransactionAmt_to_mean_P_emaildomain_1',\n",
       " 'TransactionAmt_to_std_P_emaildomain_1',\n",
       " 'TransactionAmt_to_mean_R_emaildomain_1',\n",
       " 'TransactionAmt_to_std_R_emaildomain_1',\n",
       " 'D15_to_mean_card1',\n",
       " 'D15_to_mean_card3',\n",
       " 'D15_to_mean_card5',\n",
       " 'D15_to_mean_card2',\n",
       " 'D15_to_std_card2',\n",
       " 'D15_to_mean_card4',\n",
       " 'D15_to_std_card4']"
      ]
     },
     "execution_count": 22,
     "metadata": {},
     "output_type": "execute_result"
    }
   ],
   "source": [
    "embeded_lgb_feature"
   ]
  },
  {
   "cell_type": "code",
   "execution_count": 23,
   "metadata": {},
   "outputs": [],
   "source": [
    "X = X[embeded_lgb_feature]\n",
    "X_test = X_test[embeded_lgb_feature]"
   ]
  },
  {
   "cell_type": "code",
   "execution_count": 24,
   "metadata": {},
   "outputs": [
    {
     "name": "stderr",
     "output_type": "stream",
     "text": [
      "Using TensorFlow backend.\n"
     ]
    },
    {
     "data": {
      "text/plain": [
       "((590540, 146), (590540,))"
      ]
     },
     "execution_count": 24,
     "metadata": {},
     "output_type": "execute_result"
    }
   ],
   "source": [
    "from imblearn.over_sampling import SMOTE\n",
    "X.shape, y.shape"
   ]
  },
  {
   "cell_type": "code",
   "execution_count": 25,
   "metadata": {},
   "outputs": [
    {
     "data": {
      "text/plain": [
       "22"
      ]
     },
     "execution_count": 25,
     "metadata": {},
     "output_type": "execute_result"
    }
   ],
   "source": [
    "gc.collect()"
   ]
  },
  {
   "cell_type": "code",
   "execution_count": 26,
   "metadata": {},
   "outputs": [
    {
     "data": {
      "text/plain": [
       "6"
      ]
     },
     "execution_count": 26,
     "metadata": {},
     "output_type": "execute_result"
    }
   ],
   "source": [
    "lgb_params = {\n",
    "    \"boosting_type\": \"gbdt\",\n",
    "    'objective': 'binary',\n",
    "    \"metric\": 'auc',\n",
    "    'max_depth': 7,\n",
    "    'num_leaves': 50,\n",
    "    'learning_rate': 0.03,\n",
    "    'min_child_samples': 70,\n",
    "    \n",
    "    \"subsample_freq\": 3,\n",
    "    \"subsample\": 0.9,\n",
    "    \"bagging_seed\": 24,\n",
    "    \"verbosity\": -1,\n",
    "    'reg_alpha': 0.3,\n",
    "    'reg_lambda': 0.3,\n",
    "    'colsample_bytree': 0.9,\n",
    "}\n",
    "metrics =[\n",
    "    ('f1', f1_score),\n",
    "    ('prec', precision_score),\n",
    "    ('rec', recall_score),\n",
    "    ('roc_auc',roc_auc_score)\n",
    "]\n",
    "\n",
    "sm = SMOTE(random_state=42, sampling_strategy=0.2)\n",
    "X_sm,y_sm = sm.fit_sample(X, y)\n",
    "X_sm = pd.DataFrame(X_sm, columns=X.columns)\n",
    "y_sm = pd.DataFrame(y_sm)\n",
    "\n",
    "del X,y\n",
    "gc.collect()"
   ]
  },
  {
   "cell_type": "code",
   "execution_count": 27,
   "metadata": {},
   "outputs": [
    {
     "name": "stdout",
     "output_type": "stream",
     "text": [
      "Training until validation scores don't improve for 100 rounds.\n",
      "[100]\ttraining's auc: 0.971445\ttraining's auc: 0.971445\tvalid_1's auc: 0.970512\tvalid_1's auc: 0.970512\n",
      "[200]\ttraining's auc: 0.981665\ttraining's auc: 0.981665\tvalid_1's auc: 0.980445\tvalid_1's auc: 0.980445\n",
      "[300]\ttraining's auc: 0.985315\ttraining's auc: 0.985315\tvalid_1's auc: 0.983737\tvalid_1's auc: 0.983737\n",
      "[400]\ttraining's auc: 0.987358\ttraining's auc: 0.987358\tvalid_1's auc: 0.985407\tvalid_1's auc: 0.985407\n",
      "[500]\ttraining's auc: 0.988826\ttraining's auc: 0.988826\tvalid_1's auc: 0.986556\tvalid_1's auc: 0.986556\n",
      "[600]\ttraining's auc: 0.990033\ttraining's auc: 0.990033\tvalid_1's auc: 0.987495\tvalid_1's auc: 0.987495\n",
      "[700]\ttraining's auc: 0.991139\ttraining's auc: 0.991139\tvalid_1's auc: 0.988368\tvalid_1's auc: 0.988368\n",
      "[800]\ttraining's auc: 0.991974\ttraining's auc: 0.991974\tvalid_1's auc: 0.988945\tvalid_1's auc: 0.988945\n",
      "[900]\ttraining's auc: 0.992783\ttraining's auc: 0.992783\tvalid_1's auc: 0.98953\tvalid_1's auc: 0.98953\n",
      "[1000]\ttraining's auc: 0.993478\ttraining's auc: 0.993478\tvalid_1's auc: 0.990042\tvalid_1's auc: 0.990042\n",
      "Did not meet early stopping. Best iteration is:\n",
      "[1000]\ttraining's auc: 0.993478\ttraining's auc: 0.993478\tvalid_1's auc: 0.990042\tvalid_1's auc: 0.990042\n",
      "Training until validation scores don't improve for 100 rounds.\n",
      "[100]\ttraining's auc: 0.972486\ttraining's auc: 0.972486\tvalid_1's auc: 0.970774\tvalid_1's auc: 0.970774\n",
      "[200]\ttraining's auc: 0.982045\ttraining's auc: 0.982045\tvalid_1's auc: 0.980219\tvalid_1's auc: 0.980219\n",
      "[300]\ttraining's auc: 0.985507\ttraining's auc: 0.985507\tvalid_1's auc: 0.983452\tvalid_1's auc: 0.983452\n",
      "[400]\ttraining's auc: 0.987362\ttraining's auc: 0.987362\tvalid_1's auc: 0.985032\tvalid_1's auc: 0.985032\n",
      "[500]\ttraining's auc: 0.988903\ttraining's auc: 0.988903\tvalid_1's auc: 0.986302\tvalid_1's auc: 0.986302\n",
      "[600]\ttraining's auc: 0.9901\ttraining's auc: 0.9901\tvalid_1's auc: 0.987289\tvalid_1's auc: 0.987289\n",
      "[700]\ttraining's auc: 0.991194\ttraining's auc: 0.991194\tvalid_1's auc: 0.988121\tvalid_1's auc: 0.988121\n",
      "[800]\ttraining's auc: 0.992019\ttraining's auc: 0.992019\tvalid_1's auc: 0.988723\tvalid_1's auc: 0.988723\n",
      "[900]\ttraining's auc: 0.992716\ttraining's auc: 0.992716\tvalid_1's auc: 0.989259\tvalid_1's auc: 0.989259\n",
      "[1000]\ttraining's auc: 0.993449\ttraining's auc: 0.993449\tvalid_1's auc: 0.989824\tvalid_1's auc: 0.989824\n",
      "Did not meet early stopping. Best iteration is:\n",
      "[1000]\ttraining's auc: 0.993449\ttraining's auc: 0.993449\tvalid_1's auc: 0.989824\tvalid_1's auc: 0.989824\n",
      "Training until validation scores don't improve for 100 rounds.\n",
      "[100]\ttraining's auc: 0.971977\ttraining's auc: 0.971977\tvalid_1's auc: 0.971776\tvalid_1's auc: 0.971776\n",
      "[200]\ttraining's auc: 0.981741\ttraining's auc: 0.981741\tvalid_1's auc: 0.981049\tvalid_1's auc: 0.981049\n",
      "[300]\ttraining's auc: 0.985186\ttraining's auc: 0.985186\tvalid_1's auc: 0.984166\tvalid_1's auc: 0.984166\n",
      "[400]\ttraining's auc: 0.987165\ttraining's auc: 0.987165\tvalid_1's auc: 0.985834\tvalid_1's auc: 0.985834\n",
      "[500]\ttraining's auc: 0.988576\ttraining's auc: 0.988576\tvalid_1's auc: 0.986976\tvalid_1's auc: 0.986976\n",
      "[600]\ttraining's auc: 0.989947\ttraining's auc: 0.989947\tvalid_1's auc: 0.988018\tvalid_1's auc: 0.988018\n",
      "[700]\ttraining's auc: 0.991017\ttraining's auc: 0.991017\tvalid_1's auc: 0.988832\tvalid_1's auc: 0.988832\n",
      "[800]\ttraining's auc: 0.991943\ttraining's auc: 0.991943\tvalid_1's auc: 0.989492\tvalid_1's auc: 0.989492\n",
      "[900]\ttraining's auc: 0.992711\ttraining's auc: 0.992711\tvalid_1's auc: 0.990089\tvalid_1's auc: 0.990089\n",
      "[1000]\ttraining's auc: 0.993352\ttraining's auc: 0.993352\tvalid_1's auc: 0.990541\tvalid_1's auc: 0.990541\n",
      "Did not meet early stopping. Best iteration is:\n",
      "[1000]\ttraining's auc: 0.993352\ttraining's auc: 0.993352\tvalid_1's auc: 0.990541\tvalid_1's auc: 0.990541\n",
      "Training until validation scores don't improve for 100 rounds.\n",
      "[100]\ttraining's auc: 0.971501\ttraining's auc: 0.971501\tvalid_1's auc: 0.971868\tvalid_1's auc: 0.971868\n",
      "[200]\ttraining's auc: 0.981657\ttraining's auc: 0.981657\tvalid_1's auc: 0.981634\tvalid_1's auc: 0.981634\n",
      "[300]\ttraining's auc: 0.985035\ttraining's auc: 0.985035\tvalid_1's auc: 0.984692\tvalid_1's auc: 0.984692\n",
      "[400]\ttraining's auc: 0.987059\ttraining's auc: 0.987059\tvalid_1's auc: 0.98642\tvalid_1's auc: 0.98642\n",
      "[500]\ttraining's auc: 0.988484\ttraining's auc: 0.988484\tvalid_1's auc: 0.987503\tvalid_1's auc: 0.987503\n",
      "[600]\ttraining's auc: 0.98969\ttraining's auc: 0.98969\tvalid_1's auc: 0.988423\tvalid_1's auc: 0.988423\n",
      "[700]\ttraining's auc: 0.990774\ttraining's auc: 0.990774\tvalid_1's auc: 0.989214\tvalid_1's auc: 0.989214\n",
      "[800]\ttraining's auc: 0.991634\ttraining's auc: 0.991634\tvalid_1's auc: 0.989855\tvalid_1's auc: 0.989855\n",
      "[900]\ttraining's auc: 0.992394\ttraining's auc: 0.992394\tvalid_1's auc: 0.990355\tvalid_1's auc: 0.990355\n",
      "[1000]\ttraining's auc: 0.993151\ttraining's auc: 0.993151\tvalid_1's auc: 0.990886\tvalid_1's auc: 0.990886\n",
      "Did not meet early stopping. Best iteration is:\n",
      "[1000]\ttraining's auc: 0.993151\ttraining's auc: 0.993151\tvalid_1's auc: 0.990886\tvalid_1's auc: 0.990886\n",
      "============================================================\n",
      "[f1]\t CV mean: 0.9449075603060173 , std: 0.0014009267200320783\n",
      "[prec]\t CV mean: 0.9917159908767629 , std: 0.000526578136638417\n",
      "[rec]\t CV mean: 0.9023206844150287 , std: 0.0022480538497193247\n",
      "[roc_auc]\t CV mean: 0.950406670833553 , std: 0.0011542283264889064\n"
     ]
    },
    {
     "data": {
      "image/png": "[encoded data removed]",
      "text/plain": [
       "<Figure size 1152x864 with 1 Axes>"
      ]
     },
     "metadata": {
      "needs_background": "light"
     },
     "output_type": "display_data"
    },
    {
     "data": {
      "image/png": "[encoded data removed]",
      "text/plain": [
       "<Figure size 432x288 with 2 Axes>"
      ]
     },
     "metadata": {
      "needs_background": "light"
     },
     "output_type": "display_data"
    }
   ],
   "source": [
    "oof_lgb, pred_lgb = get_hue_oof(lgb_params, X=X_sm, y=y_sm[0], X_test=X_test,\n",
    "                    cv_scheme='skf', n_splits=4, shuffle=True, seed=42,\n",
    "                    metrics=metrics,n_estimators=1000,verbose=100)"
   ]
  },
  {
   "cell_type": "code",
   "execution_count": 29,
   "metadata": {},
   "outputs": [],
   "source": [
    "test = test.sort_values('TransactionDT')\n",
    "test['prediction'] = pred_lgb\n",
    "sub['isFraud'] = pd.merge(sub, test, on='TransactionID')['prediction']\n",
    "sub.to_csv('smote.csv', index=False)"
   ]
  },
  {
   "cell_type": "code",
   "execution_count": 30,
   "metadata": {},
   "outputs": [
    {
     "data": {
      "text/html": [
       "<div>\n",
       "<style scoped>\n",
       "    .dataframe tbody tr th:only-of-type {\n",
       "        vertical-align: middle;\n",
       "    }\n",
       "\n",
       "    .dataframe tbody tr th {\n",
       "        vertical-align: top;\n",
       "    }\n",
       "\n",
       "    .dataframe thead th {\n",
       "        text-align: right;\n",
       "    }\n",
       "</style>\n",
       "<table border=\"1\" class=\"dataframe\">\n",
       "  <thead>\n",
       "    <tr style=\"text-align: right;\">\n",
       "      <th></th>\n",
       "      <th>TransactionID</th>\n",
       "      <th>isFraud</th>\n",
       "    </tr>\n",
       "  </thead>\n",
       "  <tbody>\n",
       "    <tr>\n",
       "      <th>506686</th>\n",
       "      <td>4170235</td>\n",
       "      <td>0.037612864149001</td>\n",
       "    </tr>\n",
       "    <tr>\n",
       "      <th>506687</th>\n",
       "      <td>4170236</td>\n",
       "      <td>0.012299067415617</td>\n",
       "    </tr>\n",
       "    <tr>\n",
       "      <th>506688</th>\n",
       "      <td>4170237</td>\n",
       "      <td>0.010248888725384</td>\n",
       "    </tr>\n",
       "    <tr>\n",
       "      <th>506689</th>\n",
       "      <td>4170238</td>\n",
       "      <td>0.016705985736948</td>\n",
       "    </tr>\n",
       "    <tr>\n",
       "      <th>506690</th>\n",
       "      <td>4170239</td>\n",
       "      <td>0.007576465838932</td>\n",
       "    </tr>\n",
       "  </tbody>\n",
       "</table>\n",
       "</div>"
      ],
      "text/plain": [
       "        TransactionID            isFraud\n",
       "506686        4170235  0.037612864149001\n",
       "506687        4170236  0.012299067415617\n",
       "506688        4170237  0.010248888725384\n",
       "506689        4170238  0.016705985736948\n",
       "506690        4170239  0.007576465838932"
      ]
     },
     "execution_count": 30,
     "metadata": {},
     "output_type": "execute_result"
    }
   ],
   "source": [
    "sub.tail()"
   ]
  }
 ],
 "metadata": {
  "kernelspec": {
   "display_name": "Python 3",
   "language": "python",
   "name": "python3"
  },
  "language_info": {
   "codemirror_mode": {
    "name": "ipython",
    "version": 3
   },
   "file_extension": ".py",
   "mimetype": "text/x-python",
   "name": "python",
   "nbconvert_exporter": "python",
   "pygments_lexer": "ipython3",
   "version": "3.6.2"
  }
 },
 "nbformat": 4,
 "nbformat_minor": 1
}
